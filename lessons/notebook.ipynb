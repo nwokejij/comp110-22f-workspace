{
 "cells": [
  {
   "cell_type": "markdown",
   "metadata": {},
   "source": [
    "# Demo Jupyter Notebook\n",
    "\n",
    "Use **cases** in python Jupyter."
   ]
  },
  {
   "cell_type": "code",
   "execution_count": 2,
   "metadata": {},
   "outputs": [
    {
     "name": "stdout",
     "output_type": "stream",
     "text": [
      "Jonathan\n"
     ]
    }
   ],
   "source": [
    "user: str = \"Jonathan\"\n",
    "print(user)"
   ]
  },
  {
   "cell_type": "markdown",
   "metadata": {},
   "source": [
    "## Formatting Markdown Notes\n",
    "\n",
    "* You can have lists\n",
    "* You can have [links -- Such as to a Markdown cheatsheet](https://www.markdownguide.org)"
   ]
  },
  {
   "cell_type": "code",
   "execution_count": 6,
   "metadata": {},
   "outputs": [
    {
     "name": "stdout",
     "output_type": "stream",
     "text": [
      "Hello Jonathan.\n"
     ]
    }
   ],
   "source": [
    "print(f\"Hello {user}.\")"
   ]
  },
  {
   "cell_type": "markdown",
   "metadata": {},
   "source": [
    "## Useful Shortcuts.\n",
    "\n",
    "1. `Ctrl + Enter`Execute a cell while leaving cursor in cell\n",
    "2. `Shift + Enter` Execute a cell and move to another cell (or new cell)"
   ]
  },
  {
   "cell_type": "code",
   "execution_count": 7,
   "metadata": {},
   "outputs": [
    {
     "data": {
      "text/plain": [
       "110.0"
      ]
     },
     "execution_count": 7,
     "metadata": {},
     "output_type": "execute_result"
    }
   ],
   "source": [
    "total: float = 10.0 + 100.0\n",
    "total"
   ]
  },
  {
   "cell_type": "markdown",
   "metadata": {},
   "source": [
    "## Example of importing file into Jupyter\n",
    "import notebook_helpers"
   ]
  }
 ],
 "metadata": {
  "kernelspec": {
   "display_name": "Python 3.10.6 64-bit",
   "language": "python",
   "name": "python3"
  },
  "language_info": {
   "codemirror_mode": {
    "name": "ipython",
    "version": 3
   },
   "file_extension": ".py",
   "mimetype": "text/x-python",
   "name": "python",
   "nbconvert_exporter": "python",
   "pygments_lexer": "ipython3",
   "version": "3.10.6"
  },
  "orig_nbformat": 4,
  "vscode": {
   "interpreter": {
    "hash": "08a4fd30a393ebf7954b337f318fdd6c55faee639e043e0d4d902cbd89df8dc2"
   }
  }
 },
 "nbformat": 4,
 "nbformat_minor": 2
}
